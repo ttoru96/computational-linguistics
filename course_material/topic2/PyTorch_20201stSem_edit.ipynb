{
  "nbformat": 4,
  "nbformat_minor": 0,
  "metadata": {
    "kernelspec": {
      "name": "python3",
      "display_name": "Python 3"
    },
    "language_info": {
      "codemirror_mode": {
        "name": "ipython",
        "version": 3
      },
      "file_extension": ".py",
      "mimetype": "text/x-python",
      "name": "python",
      "nbconvert_exporter": "python",
      "pygments_lexer": "ipython3",
      "version": "3.7.5"
    },
    "colab": {
      "name": "PyTorch_20201stSem.ipynb",
      "provenance": [],
      "collapsed_sections": []
    },
    "accelerator": "GPU"
  },
  "cells": [
    {
      "cell_type": "markdown",
      "metadata": {
        "id": "2sFl7lwg8-HZ",
        "colab_type": "text"
      },
      "source": [
        "# 1. Pytorch Basics"
      ]
    },
    {
      "cell_type": "markdown",
      "metadata": {
        "id": "rkUvoBAI8-Hc",
        "colab_type": "text"
      },
      "source": [
        "### Importing Necessary Packages"
      ]
    },
    {
      "cell_type": "code",
      "metadata": {
        "id": "6Eg_lg7090UD",
        "colab_type": "code",
        "outputId": "8ecaf6c1-ad88-4315-fc4c-0a6e436461d7",
        "colab": {
          "base_uri": "https://localhost:8080/",
          "height": 34
        }
      },
      "source": [
        "!pip3 install torch"
      ],
      "execution_count": 1,
      "outputs": [
        {
          "output_type": "stream",
          "text": [
            "Requirement already satisfied: torch in /usr/local/lib/python3.6/dist-packages (1.4.0)\n"
          ],
          "name": "stdout"
        }
      ]
    },
    {
      "cell_type": "code",
      "metadata": {
        "id": "wkujDTWe8-He",
        "colab_type": "code",
        "outputId": "5441d488-9111-464a-fb8b-bb6dbfc14dec",
        "colab": {
          "base_uri": "https://localhost:8080/",
          "height": 34
        }
      },
      "source": [
        "# torch가 설치되어 있지 않다면\n",
        "# !pip install torch\n",
        "# !pip3 install torch\n",
        "\n",
        "import torch\n",
        "import torch.autograd as autograd\n",
        "import torch.nn as nn\n",
        "import torch.nn.functional as F\n",
        "import torch.optim as optim\n",
        "\n",
        "torch.manual_seed(1)"
      ],
      "execution_count": 2,
      "outputs": [
        {
          "output_type": "execute_result",
          "data": {
            "text/plain": [
              "<torch._C.Generator at 0x7f2eb4e54490>"
            ]
          },
          "metadata": {
            "tags": []
          },
          "execution_count": 2
        }
      ]
    },
    {
      "cell_type": "markdown",
      "metadata": {
        "id": "D16CjBwn8-Hs",
        "colab_type": "text"
      },
      "source": [
        "### Creating Tensors\n",
        "Tensors can be created from Python lists with the torch.Tensor() function."
      ]
    },
    {
      "cell_type": "code",
      "metadata": {
        "id": "Sr1g77GN8-Ht",
        "colab_type": "code",
        "outputId": "ed002305-87a8-44aa-9612-ec6e0d027f78",
        "colab": {
          "base_uri": "https://localhost:8080/",
          "height": 153
        }
      },
      "source": [
        "# Create a torch.Tensor object with the given data.  It is a 1D vector\n",
        "V_data = [1., 2., 3.]\n",
        "V = torch.Tensor(V_data)\n",
        "print (V)\n",
        "\n",
        "# Creates a matrix\n",
        "M_data = [[1., 2., 3.], [4., 5., 6.]]\n",
        "M = torch.Tensor(M_data)\n",
        "print (M)\n",
        "\n",
        "# Create a 3D tensor of size 2x2x2.\n",
        "T_data = [[[1.,2.], [3.,4.]],\n",
        "          [[5.,6.], [7.,8.]]]\n",
        "T = torch.Tensor(T_data)\n",
        "print (T)"
      ],
      "execution_count": 0,
      "outputs": [
        {
          "output_type": "stream",
          "text": [
            "tensor([1., 2., 3.])\n",
            "tensor([[1., 2., 3.],\n",
            "        [4., 5., 6.]])\n",
            "tensor([[[1., 2.],\n",
            "         [3., 4.]],\n",
            "\n",
            "        [[5., 6.],\n",
            "         [7., 8.]]])\n"
          ],
          "name": "stdout"
        }
      ]
    },
    {
      "cell_type": "markdown",
      "metadata": {
        "id": "8XnfZ-X-8-H2",
        "colab_type": "text"
      },
      "source": [
        "What is a 3D tensor anyway?\n",
        "Think about it like this.\n",
        "If you have a vector, indexing into the vector gives you a scalar.  If you have a matrix, indexing into the matrix gives you a vector.  If you have a 3D tensor, then indexing into the tensor gives you a matrix!\n",
        "\n",
        "A note on terminology: when I say \"tensor\" in this tutorial, it refers to any torch.Tensor object.  Vectors and matrices are special cases of torch.Tensors, where their dimension is 1 and 2 respectively.  When I am talking about 3D tensors, I will explicitly use the term \"3D tensor\"."
      ]
    },
    {
      "cell_type": "code",
      "metadata": {
        "id": "_w0V_LCf8-H3",
        "colab_type": "code",
        "outputId": "9484007f-ccef-4077-f0db-876b4f380677",
        "colab": {
          "base_uri": "https://localhost:8080/",
          "height": 68
        }
      },
      "source": [
        "# Index into V and get a scalar\n",
        "print (V[0])\n",
        "\n",
        "# Index into M and get a vector\n",
        "print (M[0][0])\n",
        "\n",
        "# Index into T and get a matrix\n",
        "print (T[0][0][0])"
      ],
      "execution_count": 0,
      "outputs": [
        {
          "output_type": "stream",
          "text": [
            "tensor(1.)\n",
            "tensor(1.)\n",
            "tensor(1.)\n"
          ],
          "name": "stdout"
        }
      ]
    },
    {
      "cell_type": "markdown",
      "metadata": {
        "id": "5uR7saVE8-H7",
        "colab_type": "text"
      },
      "source": [
        "You can also create tensors of other datatypes.  The default, as you can see, is Float.\n",
        "To create a tensor of integer types, try torch.LongTensor().  Check the documentation for more data types, but Float and Long will be the most common."
      ]
    },
    {
      "cell_type": "markdown",
      "metadata": {
        "id": "K5Hny6rH8-IA",
        "colab_type": "text"
      },
      "source": [
        "You can create a tensor with random data and the supplied dimensionality with torch.randn()"
      ]
    },
    {
      "cell_type": "code",
      "metadata": {
        "id": "DnE8LkWR8-IE",
        "colab_type": "code",
        "outputId": "2a57a7bd-ec5d-4e41-dbf5-b04efca8604f",
        "colab": {
          "base_uri": "https://localhost:8080/",
          "height": 306
        }
      },
      "source": [
        "x = torch.randn((3, 4, 5))\n",
        "print (x)\n",
        "\n",
        "y = torch.ones((1, 2))\n",
        "print (y)\n",
        "\n",
        "z = torch.zeros((2, 2))\n",
        "print (z)"
      ],
      "execution_count": 0,
      "outputs": [
        {
          "output_type": "stream",
          "text": [
            "tensor([[[-1.5256, -0.7502, -0.6540, -1.6095, -0.1002],\n",
            "         [-0.6092, -0.9798, -1.6091, -0.7121,  0.3037],\n",
            "         [-0.7773, -0.2515, -0.2223,  1.6871,  0.2284],\n",
            "         [ 0.4676, -0.6970, -1.1608,  0.6995,  0.1991]],\n",
            "\n",
            "        [[ 0.8657,  0.2444, -0.6629,  0.8073,  1.1017],\n",
            "         [-0.1759, -2.2456, -1.4465,  0.0612, -0.6177],\n",
            "         [-0.7981, -0.1316,  1.8793, -0.0721,  0.1578],\n",
            "         [-0.7735,  0.1991,  0.0457,  0.1530, -0.4757]],\n",
            "\n",
            "        [[-0.1110,  0.2927, -0.1578, -0.0288,  0.4533],\n",
            "         [ 1.1422,  0.2486, -1.7754, -0.0255, -1.0233],\n",
            "         [-0.5962, -1.0055,  0.4285,  1.4761, -1.7869],\n",
            "         [ 1.6103, -0.7040, -0.1853, -0.9962, -0.8313]]])\n",
            "tensor([[1., 1.]])\n",
            "tensor([[0., 0.],\n",
            "        [0., 0.]])\n"
          ],
          "name": "stdout"
        }
      ]
    },
    {
      "cell_type": "markdown",
      "metadata": {
        "id": "2W7EHX2a8-IK",
        "colab_type": "text"
      },
      "source": [
        "### Operations with Tensors"
      ]
    },
    {
      "cell_type": "code",
      "metadata": {
        "id": "hAUJHNyd8-IL",
        "colab_type": "code",
        "outputId": "e338fd05-4be0-4d57-a722-86839a191dae",
        "colab": {
          "base_uri": "https://localhost:8080/",
          "height": 34
        }
      },
      "source": [
        "x = torch.Tensor([ 1., 2., 3. ])\n",
        "y = torch.Tensor([ 4., 5., 6. ])\n",
        "z = x + y\n",
        "print (z)"
      ],
      "execution_count": 0,
      "outputs": [
        {
          "output_type": "stream",
          "text": [
            "tensor([5., 7., 9.])\n"
          ],
          "name": "stdout"
        }
      ]
    },
    {
      "cell_type": "markdown",
      "metadata": {
        "id": "rGpfc5Pr8-IP",
        "colab_type": "text"
      },
      "source": [
        "See [the documentation](http://pytorch.org/docs/torch.html) for a complete list of the massive number of operations available to you.  They expand beyond just mathematical operations.\n",
        "\n",
        "One helpful operation that we will make use of later is concatenation."
      ]
    },
    {
      "cell_type": "code",
      "metadata": {
        "id": "lRi-_tNd8-IQ",
        "colab_type": "code",
        "outputId": "01cc4856-9700-4003-c292-3659f3ac1e42",
        "colab": {
          "base_uri": "https://localhost:8080/",
          "height": 371
        }
      },
      "source": [
        "# By default, it concatenates along the first axis (concatenates rows)\n",
        "x_1 = torch.randn(2, 5)\n",
        "y_1 = torch.randn(3, 5)\n",
        "z_1 = torch.cat([x_1, y_1], 0)\n",
        "print (z_1)\n",
        "\n",
        "# Concatenate columns:\n",
        "x_2 = torch.randn(2, 3)\n",
        "y_2 = torch.randn(2, 5)\n",
        "z_2 = torch.cat([x_2, y_2], 1) # second arg specifies which axis to concat along\n",
        "print (z_2)\n",
        "\n",
        "# If your tensors are not compatible, torch will complain.  Uncomment to see the error\n",
        "print(x_1.shape)\n",
        "print(x_2.shape)\n",
        "torch.cat([x_1, x_2])"
      ],
      "execution_count": 0,
      "outputs": [
        {
          "output_type": "stream",
          "text": [
            "tensor([[ 0.7161, -0.8120, -1.4617,  0.2328,  0.1896],\n",
            "        [-0.2204,  0.1491,  0.0100, -0.1243,  1.4697],\n",
            "        [-0.3951, -0.5101,  1.1163, -0.5926,  0.9089],\n",
            "        [-1.0792, -0.6751,  1.4083, -1.8456, -0.5655],\n",
            "        [-0.9094, -0.4891, -0.6175,  0.3836,  0.3852]])\n",
            "tensor([[ 0.7890,  1.1363, -0.1147, -0.8996,  0.5313,  0.4034,  1.4521, -2.4182],\n",
            "        [-0.0180,  0.0491,  0.4272, -1.1906,  0.6964,  1.1296,  0.2214, -0.0558]])\n",
            "torch.Size([2, 5])\n",
            "torch.Size([2, 3])\n"
          ],
          "name": "stdout"
        },
        {
          "output_type": "error",
          "ename": "RuntimeError",
          "evalue": "ignored",
          "traceback": [
            "\u001b[0;31m---------------------------------------------------------------------------\u001b[0m",
            "\u001b[0;31mRuntimeError\u001b[0m                              Traceback (most recent call last)",
            "\u001b[0;32m<ipython-input-13-dc94f112bacb>\u001b[0m in \u001b[0;36m<module>\u001b[0;34m()\u001b[0m\n\u001b[1;32m     13\u001b[0m \u001b[0mprint\u001b[0m\u001b[0;34m(\u001b[0m\u001b[0mx_1\u001b[0m\u001b[0;34m.\u001b[0m\u001b[0mshape\u001b[0m\u001b[0;34m)\u001b[0m\u001b[0;34m\u001b[0m\u001b[0;34m\u001b[0m\u001b[0m\n\u001b[1;32m     14\u001b[0m \u001b[0mprint\u001b[0m\u001b[0;34m(\u001b[0m\u001b[0mx_2\u001b[0m\u001b[0;34m.\u001b[0m\u001b[0mshape\u001b[0m\u001b[0;34m)\u001b[0m\u001b[0;34m\u001b[0m\u001b[0;34m\u001b[0m\u001b[0m\n\u001b[0;32m---> 15\u001b[0;31m \u001b[0mtorch\u001b[0m\u001b[0;34m.\u001b[0m\u001b[0mcat\u001b[0m\u001b[0;34m(\u001b[0m\u001b[0;34m[\u001b[0m\u001b[0mx_1\u001b[0m\u001b[0;34m,\u001b[0m \u001b[0mx_2\u001b[0m\u001b[0;34m]\u001b[0m\u001b[0;34m)\u001b[0m\u001b[0;34m\u001b[0m\u001b[0;34m\u001b[0m\u001b[0m\n\u001b[0m",
            "\u001b[0;31mRuntimeError\u001b[0m: invalid argument 0: Sizes of tensors must match except in dimension 0. Got 5 and 3 in dimension 1 at /pytorch/aten/src/TH/generic/THTensor.cpp:612"
          ]
        }
      ]
    },
    {
      "cell_type": "markdown",
      "metadata": {
        "id": "15yz9HOV8-Ip",
        "colab_type": "text"
      },
      "source": [
        "### Reshaping Tensors\n",
        "Use the .view() method to reshape a tensor.\n",
        "This method receives heavy use, because many neural network components expect their inputs to have a certain shape.\n",
        "Often you will need to reshape before passing your data to the component."
      ]
    },
    {
      "cell_type": "code",
      "metadata": {
        "id": "TJbrZ3aw8-Ip",
        "colab_type": "code",
        "outputId": "71926fe3-22e8-49a0-9747-887effe13c6a",
        "colab": {
          "base_uri": "https://localhost:8080/",
          "height": 85
        }
      },
      "source": [
        "x = torch.randn(2, 3, 4)\n",
        "# print (x)\n",
        "# print (x.view(6, 4)) # Reshape to 2 rows, 12 columns\n",
        "print (x.view(2, -1)) # Same as above.  If one of the dimensions is -1, its size can be inferred"
      ],
      "execution_count": 0,
      "outputs": [
        {
          "output_type": "stream",
          "text": [
            "tensor([[-0.4793, -0.1947, -1.3608,  1.3796, -0.2795, -0.2200,  1.1316, -0.5581,\n",
            "         -1.0080, -1.1255,  2.0840,  0.2845],\n",
            "        [-1.1648, -0.4375,  0.5809,  0.8394,  0.0216,  2.1849,  0.3705,  0.8323,\n",
            "          0.3204,  0.6857, -0.6079, -0.5595]])\n"
          ],
          "name": "stdout"
        }
      ]
    },
    {
      "cell_type": "markdown",
      "metadata": {
        "id": "9cStb0gkXqX4",
        "colab_type": "text"
      },
      "source": [
        "### Reading Text File\n",
        "\n",
        "sample text (csv)\n",
        "\n",
        "1,김정수,2017-01-19 11:30:00,25\n",
        "\n",
        "2,박민구,2017-02-07 10:22:00,35\n",
        "\n",
        "3,정순미,2017-03-22 09:10:00,33\n"
      ]
    },
    {
      "cell_type": "code",
      "metadata": {
        "id": "Ol0EOi2MZFnU",
        "colab_type": "code",
        "colab": {}
      },
      "source": [
        "import csv\n",
        "\n",
        "f = open('sample.csv', 'r', encoding='utf-8')\n",
        "reader = csv.reader(f, delimiter=',')"
      ],
      "execution_count": 0,
      "outputs": []
    },
    {
      "cell_type": "code",
      "metadata": {
        "id": "USxUZ0S8ZdsF",
        "colab_type": "code",
        "colab": {
          "base_uri": "https://localhost:8080/",
          "height": 119
        },
        "outputId": "8b0896fa-b211-408b-883f-fca7353d5abf"
      },
      "source": [
        "for line in reader:\n",
        "  print(line)\n",
        "  age = int(line[-1])\n",
        "  age_tensor = torch.Tensor([age])\n",
        "  print(age_tensor)"
      ],
      "execution_count": 52,
      "outputs": [
        {
          "output_type": "stream",
          "text": [
            "['1', '김정수', '2017-01-19 11:30:00', '25']\n",
            "tensor([25.])\n",
            "['2', '박민구', '2017-02-07 10:22:00', '35']\n",
            "tensor([35.])\n",
            "['3', '정순미', '2017-03-22 09:10:00', '33']\n",
            "tensor([33.])\n"
          ],
          "name": "stdout"
        }
      ]
    },
    {
      "cell_type": "markdown",
      "metadata": {
        "id": "i0P4vBq6abGu",
        "colab_type": "text"
      },
      "source": [
        "### Writing Text File"
      ]
    },
    {
      "cell_type": "code",
      "metadata": {
        "id": "z_JXzhiwaPHd",
        "colab_type": "code",
        "colab": {
          "base_uri": "https://localhost:8080/",
          "height": 51
        },
        "outputId": "6553ca1a-b341-49fa-df6d-a7eaa844de84"
      },
      "source": [
        "x_temp = torch.randn(2, 3)\n",
        "print(x_temp)"
      ],
      "execution_count": 26,
      "outputs": [
        {
          "output_type": "stream",
          "text": [
            "tensor([[ 3.5870, -1.8313,  1.5987],\n",
            "        [-1.2770,  0.3255, -0.4791]])\n"
          ],
          "name": "stdout"
        }
      ]
    },
    {
      "cell_type": "code",
      "metadata": {
        "id": "-ZziRj2uarxn",
        "colab_type": "code",
        "colab": {}
      },
      "source": [
        "f_str = open('out_test.txt', 'w')"
      ],
      "execution_count": 0,
      "outputs": []
    },
    {
      "cell_type": "code",
      "metadata": {
        "id": "kAJV4IObbIN6",
        "colab_type": "code",
        "colab": {
          "base_uri": "https://localhost:8080/",
          "height": 119
        },
        "outputId": "b8401f2b-bf91-47d5-8eef-27766a60d10d"
      },
      "source": [
        "for row in x_temp:\n",
        "  for column in row:\n",
        "    print(column.item())\n",
        "    f_str.write(str(column.item()) + '\\n')"
      ],
      "execution_count": 45,
      "outputs": [
        {
          "output_type": "stream",
          "text": [
            "3.586989402770996\n",
            "-1.8312901258468628\n",
            "1.5987002849578857\n",
            "-1.277006983757019\n",
            "0.32550153136253357\n",
            "-0.4791449308395386\n"
          ],
          "name": "stdout"
        }
      ]
    },
    {
      "cell_type": "markdown",
      "metadata": {
        "id": "O9dgf7YL8-I6",
        "colab_type": "text"
      },
      "source": [
        "# 2. Autograd"
      ]
    },
    {
      "cell_type": "markdown",
      "metadata": {
        "id": "5TlcYuNE8-I9",
        "colab_type": "text"
      },
      "source": [
        "각 데이터에 대해\n",
        "- loss 계산 (predict value와 real value의 차이) - 이 때 forward()를 이용해 predict\n",
        "- loss.backward() 호출 (gradients 계산)\n",
        "- parameters update (learning rate 이용)\n",
        "- gradients 초기화 \n",
        "...가 반복된다."
      ]
    },
    {
      "cell_type": "code",
      "metadata": {
        "id": "vin4bJsb8-I-",
        "colab_type": "code",
        "outputId": "539a4d78-f864-43e8-9186-a68ac2ad63cd",
        "colab": {
          "base_uri": "https://localhost:8080/",
          "height": 731
        }
      },
      "source": [
        "import torch\n",
        "from torch.autograd import Variable\n",
        "\n",
        "x_data = [1.0, 2.0, 3.0]\n",
        "y_data = [2.0, 4.0, 6.0]\n",
        "\n",
        "w = Variable(torch.Tensor([1.0]),  requires_grad=True)  # Any random value\n",
        "\n",
        "# our model forward pass\n",
        "def forward(x):\n",
        "    return x * w\n",
        "\n",
        "# Loss function\n",
        "def loss(x, y):\n",
        "    y_pred = forward(x)\n",
        "    return (y_pred - y) * (y_pred - y)\n",
        "\n",
        "# Before training\n",
        "print(\"predict (before training)\",  4, forward(4).data[0])\n",
        "\n",
        "# Training loop\n",
        "for epoch in range(10):\n",
        "    for x_val, y_val in zip(x_data, y_data):\n",
        "        l = loss(x_val, y_val)\n",
        "        l.backward()\n",
        "        print(\"\\tgrad: \", x_val, y_val, w.grad.data[0])\n",
        "        w.data = w.data - 0.01 * w.grad.data\n",
        "        # Manually zero the gradients after updating weights\n",
        "        w.grad.data.zero_()\n",
        "\n",
        "    print(\"progress:\", epoch, l.data[0])\n",
        "\n",
        "# After training\n",
        "print(\"predict (after training)\",  4, forward(4).data[0])"
      ],
      "execution_count": 0,
      "outputs": [
        {
          "output_type": "stream",
          "text": [
            "predict (before training) 4 tensor(4.)\n",
            "\tgrad:  1.0 2.0 tensor(-2.)\n",
            "\tgrad:  2.0 4.0 tensor(-7.8400)\n",
            "\tgrad:  3.0 6.0 tensor(-16.2288)\n",
            "progress: 0 tensor(7.3159)\n",
            "\tgrad:  1.0 2.0 tensor(-1.4786)\n",
            "\tgrad:  2.0 4.0 tensor(-5.7962)\n",
            "\tgrad:  3.0 6.0 tensor(-11.9981)\n",
            "progress: 1 tensor(3.9988)\n",
            "\tgrad:  1.0 2.0 tensor(-1.0932)\n",
            "\tgrad:  2.0 4.0 tensor(-4.2852)\n",
            "\tgrad:  3.0 6.0 tensor(-8.8704)\n",
            "progress: 2 tensor(2.1857)\n",
            "\tgrad:  1.0 2.0 tensor(-0.8082)\n",
            "\tgrad:  2.0 4.0 tensor(-3.1681)\n",
            "\tgrad:  3.0 6.0 tensor(-6.5580)\n",
            "progress: 3 tensor(1.1946)\n",
            "\tgrad:  1.0 2.0 tensor(-0.5975)\n",
            "\tgrad:  2.0 4.0 tensor(-2.3422)\n",
            "\tgrad:  3.0 6.0 tensor(-4.8484)\n",
            "progress: 4 tensor(0.6530)\n",
            "\tgrad:  1.0 2.0 tensor(-0.4417)\n",
            "\tgrad:  2.0 4.0 tensor(-1.7316)\n",
            "\tgrad:  3.0 6.0 tensor(-3.5845)\n",
            "progress: 5 tensor(0.3569)\n",
            "\tgrad:  1.0 2.0 tensor(-0.3266)\n",
            "\tgrad:  2.0 4.0 tensor(-1.2802)\n",
            "\tgrad:  3.0 6.0 tensor(-2.6500)\n",
            "progress: 6 tensor(0.1951)\n",
            "\tgrad:  1.0 2.0 tensor(-0.2414)\n",
            "\tgrad:  2.0 4.0 tensor(-0.9465)\n",
            "\tgrad:  3.0 6.0 tensor(-1.9592)\n",
            "progress: 7 tensor(0.1066)\n",
            "\tgrad:  1.0 2.0 tensor(-0.1785)\n",
            "\tgrad:  2.0 4.0 tensor(-0.6997)\n",
            "\tgrad:  3.0 6.0 tensor(-1.4485)\n",
            "progress: 8 tensor(0.0583)\n",
            "\tgrad:  1.0 2.0 tensor(-0.1320)\n",
            "\tgrad:  2.0 4.0 tensor(-0.5173)\n",
            "\tgrad:  3.0 6.0 tensor(-1.0709)\n",
            "progress: 9 tensor(0.0319)\n",
            "predict (after training) 4 tensor(7.8049)\n"
          ],
          "name": "stdout"
        }
      ]
    },
    {
      "cell_type": "markdown",
      "metadata": {
        "id": "vOOBruJM8-JC",
        "colab_type": "text"
      },
      "source": [
        "## 2-1. Example: Linear Regression"
      ]
    },
    {
      "cell_type": "code",
      "metadata": {
        "id": "p2thKI_18-JF",
        "colab_type": "code",
        "colab": {}
      },
      "source": [
        "from torch.autograd import Variable\n",
        "\n",
        "x_data = Variable(torch.Tensor([[1.0], [2.0], [3.0]]))\n",
        "y_data = Variable(torch.Tensor([[2.0], [4.0], [6.0]]))\n",
        "\n",
        "\n",
        "class Model(torch.nn.Module):\n",
        "\n",
        "    def __init__(self):\n",
        "        \"\"\"\n",
        "        In the constructor we instantiate two nn.Linear module\n",
        "        \"\"\"\n",
        "        super(Model, self).__init__()\n",
        "        self.linear = torch.nn.Linear(1, 1)  # One in and one out\n",
        "\n",
        "    def forward(self, x):\n",
        "        \"\"\"\n",
        "        In the forward function we accept a Variable of input data and we must return\n",
        "        a Variable of output data. We can use Modules defined in the constructor as\n",
        "        well as arbitrary operators on Variables.\n",
        "        \"\"\"\n",
        "        y_pred = self.linear(x)\n",
        "        return y_pred\n"
      ],
      "execution_count": 0,
      "outputs": []
    },
    {
      "cell_type": "code",
      "metadata": {
        "id": "4KA2WHuQ8-JQ",
        "colab_type": "code",
        "outputId": "5e51027a-9810-4520-9953-cf1ba9222e3c",
        "colab": {
          "base_uri": "https://localhost:8080/",
          "height": 1000
        }
      },
      "source": [
        "# our model\n",
        "model = Model()\n",
        "\n",
        "\n",
        "# Construct our loss function and an Optimizer. The call to model.parameters()\n",
        "# in the SGD constructor will contain the learnable parameters of the two\n",
        "# nn.Linear modules which are members of the model.\n",
        "criterion = torch.nn.MSELoss(size_average=False)\n",
        "optimizer = torch.optim.SGD(model.parameters(), lr=0.01)\n",
        "\n",
        "# Training loop\n",
        "for epoch in range(500):\n",
        "    # Forward pass: Compute predicted y by passing x to the model\n",
        "    y_pred = model(x_data)\n",
        "\n",
        "    # Compute and print loss\n",
        "    loss = criterion(y_pred, y_data)\n",
        "    print(epoch, loss.data)\n",
        "\n",
        "    # Zero gradients, perform a backward pass, and update the weights.\n",
        "    optimizer.zero_grad()\n",
        "    loss.backward()\n",
        "    optimizer.step()\n",
        "\n",
        "\n",
        "# After training\n",
        "hour_var = Variable(torch.Tensor([[4.0]]))\n",
        "y_pred = model(hour_var)\n",
        "print(\"predict (after training)\",  4, model(hour_var).data[0][0])"
      ],
      "execution_count": 0,
      "outputs": [
        {
          "output_type": "stream",
          "text": [
            "/usr/local/lib/python3.6/dist-packages/torch/nn/_reduction.py:43: UserWarning: size_average and reduce args will be deprecated, please use reduction='sum' instead.\n",
            "  warnings.warn(warning.format(ret))\n"
          ],
          "name": "stderr"
        },
        {
          "output_type": "stream",
          "text": [
            "0 tensor(19.3555)\n",
            "1 tensor(8.7938)\n",
            "2 tensor(4.0896)\n",
            "3 tensor(1.9928)\n",
            "4 tensor(1.0570)\n",
            "5 tensor(0.6379)\n",
            "6 tensor(0.4489)\n",
            "7 tensor(0.3624)\n",
            "8 tensor(0.3216)\n",
            "9 tensor(0.3011)\n",
            "10 tensor(0.2897)\n",
            "11 tensor(0.2824)\n",
            "12 tensor(0.2770)\n",
            "13 tensor(0.2724)\n",
            "14 tensor(0.2682)\n",
            "15 tensor(0.2642)\n",
            "16 tensor(0.2603)\n",
            "17 tensor(0.2566)\n",
            "18 tensor(0.2529)\n",
            "19 tensor(0.2492)\n",
            "20 tensor(0.2456)\n",
            "21 tensor(0.2421)\n",
            "22 tensor(0.2386)\n",
            "23 tensor(0.2352)\n",
            "24 tensor(0.2318)\n",
            "25 tensor(0.2285)\n",
            "26 tensor(0.2252)\n",
            "27 tensor(0.2220)\n",
            "28 tensor(0.2188)\n",
            "29 tensor(0.2156)\n",
            "30 tensor(0.2125)\n",
            "31 tensor(0.2095)\n",
            "32 tensor(0.2065)\n",
            "33 tensor(0.2035)\n",
            "34 tensor(0.2006)\n",
            "35 tensor(0.1977)\n",
            "36 tensor(0.1949)\n",
            "37 tensor(0.1921)\n",
            "38 tensor(0.1893)\n",
            "39 tensor(0.1866)\n",
            "40 tensor(0.1839)\n",
            "41 tensor(0.1813)\n",
            "42 tensor(0.1786)\n",
            "43 tensor(0.1761)\n",
            "44 tensor(0.1735)\n",
            "45 tensor(0.1711)\n",
            "46 tensor(0.1686)\n",
            "47 tensor(0.1662)\n",
            "48 tensor(0.1638)\n",
            "49 tensor(0.1614)\n",
            "50 tensor(0.1591)\n",
            "51 tensor(0.1568)\n",
            "52 tensor(0.1546)\n",
            "53 tensor(0.1523)\n",
            "54 tensor(0.1502)\n",
            "55 tensor(0.1480)\n",
            "56 tensor(0.1459)\n",
            "57 tensor(0.1438)\n",
            "58 tensor(0.1417)\n",
            "59 tensor(0.1397)\n",
            "60 tensor(0.1377)\n",
            "61 tensor(0.1357)\n",
            "62 tensor(0.1337)\n",
            "63 tensor(0.1318)\n",
            "64 tensor(0.1299)\n",
            "65 tensor(0.1281)\n",
            "66 tensor(0.1262)\n",
            "67 tensor(0.1244)\n",
            "68 tensor(0.1226)\n",
            "69 tensor(0.1209)\n",
            "70 tensor(0.1191)\n",
            "71 tensor(0.1174)\n",
            "72 tensor(0.1157)\n",
            "73 tensor(0.1141)\n",
            "74 tensor(0.1124)\n",
            "75 tensor(0.1108)\n",
            "76 tensor(0.1092)\n",
            "77 tensor(0.1076)\n",
            "78 tensor(0.1061)\n",
            "79 tensor(0.1046)\n",
            "80 tensor(0.1031)\n",
            "81 tensor(0.1016)\n",
            "82 tensor(0.1001)\n",
            "83 tensor(0.0987)\n",
            "84 tensor(0.0973)\n",
            "85 tensor(0.0959)\n",
            "86 tensor(0.0945)\n",
            "87 tensor(0.0931)\n",
            "88 tensor(0.0918)\n",
            "89 tensor(0.0905)\n",
            "90 tensor(0.0892)\n",
            "91 tensor(0.0879)\n",
            "92 tensor(0.0866)\n",
            "93 tensor(0.0854)\n",
            "94 tensor(0.0842)\n",
            "95 tensor(0.0829)\n",
            "96 tensor(0.0818)\n",
            "97 tensor(0.0806)\n",
            "98 tensor(0.0794)\n",
            "99 tensor(0.0783)\n",
            "100 tensor(0.0772)\n",
            "101 tensor(0.0760)\n",
            "102 tensor(0.0750)\n",
            "103 tensor(0.0739)\n",
            "104 tensor(0.0728)\n",
            "105 tensor(0.0718)\n",
            "106 tensor(0.0707)\n",
            "107 tensor(0.0697)\n",
            "108 tensor(0.0687)\n",
            "109 tensor(0.0677)\n",
            "110 tensor(0.0668)\n",
            "111 tensor(0.0658)\n",
            "112 tensor(0.0649)\n",
            "113 tensor(0.0639)\n",
            "114 tensor(0.0630)\n",
            "115 tensor(0.0621)\n",
            "116 tensor(0.0612)\n",
            "117 tensor(0.0603)\n",
            "118 tensor(0.0595)\n",
            "119 tensor(0.0586)\n",
            "120 tensor(0.0578)\n",
            "121 tensor(0.0569)\n",
            "122 tensor(0.0561)\n",
            "123 tensor(0.0553)\n",
            "124 tensor(0.0545)\n",
            "125 tensor(0.0537)\n",
            "126 tensor(0.0530)\n",
            "127 tensor(0.0522)\n",
            "128 tensor(0.0514)\n",
            "129 tensor(0.0507)\n",
            "130 tensor(0.0500)\n",
            "131 tensor(0.0493)\n",
            "132 tensor(0.0485)\n",
            "133 tensor(0.0479)\n",
            "134 tensor(0.0472)\n",
            "135 tensor(0.0465)\n",
            "136 tensor(0.0458)\n",
            "137 tensor(0.0452)\n",
            "138 tensor(0.0445)\n",
            "139 tensor(0.0439)\n",
            "140 tensor(0.0432)\n",
            "141 tensor(0.0426)\n",
            "142 tensor(0.0420)\n",
            "143 tensor(0.0414)\n",
            "144 tensor(0.0408)\n",
            "145 tensor(0.0402)\n",
            "146 tensor(0.0396)\n",
            "147 tensor(0.0391)\n",
            "148 tensor(0.0385)\n",
            "149 tensor(0.0380)\n",
            "150 tensor(0.0374)\n",
            "151 tensor(0.0369)\n",
            "152 tensor(0.0363)\n",
            "153 tensor(0.0358)\n",
            "154 tensor(0.0353)\n",
            "155 tensor(0.0348)\n",
            "156 tensor(0.0343)\n",
            "157 tensor(0.0338)\n",
            "158 tensor(0.0333)\n",
            "159 tensor(0.0328)\n",
            "160 tensor(0.0324)\n",
            "161 tensor(0.0319)\n",
            "162 tensor(0.0314)\n",
            "163 tensor(0.0310)\n",
            "164 tensor(0.0305)\n",
            "165 tensor(0.0301)\n",
            "166 tensor(0.0297)\n",
            "167 tensor(0.0293)\n",
            "168 tensor(0.0288)\n",
            "169 tensor(0.0284)\n",
            "170 tensor(0.0280)\n",
            "171 tensor(0.0276)\n",
            "172 tensor(0.0272)\n",
            "173 tensor(0.0268)\n",
            "174 tensor(0.0264)\n",
            "175 tensor(0.0261)\n",
            "176 tensor(0.0257)\n",
            "177 tensor(0.0253)\n",
            "178 tensor(0.0249)\n",
            "179 tensor(0.0246)\n",
            "180 tensor(0.0242)\n",
            "181 tensor(0.0239)\n",
            "182 tensor(0.0235)\n",
            "183 tensor(0.0232)\n",
            "184 tensor(0.0229)\n",
            "185 tensor(0.0225)\n",
            "186 tensor(0.0222)\n",
            "187 tensor(0.0219)\n",
            "188 tensor(0.0216)\n",
            "189 tensor(0.0213)\n",
            "190 tensor(0.0210)\n",
            "191 tensor(0.0207)\n",
            "192 tensor(0.0204)\n",
            "193 tensor(0.0201)\n",
            "194 tensor(0.0198)\n",
            "195 tensor(0.0195)\n",
            "196 tensor(0.0192)\n",
            "197 tensor(0.0189)\n",
            "198 tensor(0.0187)\n",
            "199 tensor(0.0184)\n",
            "200 tensor(0.0181)\n",
            "201 tensor(0.0179)\n",
            "202 tensor(0.0176)\n",
            "203 tensor(0.0174)\n",
            "204 tensor(0.0171)\n",
            "205 tensor(0.0169)\n",
            "206 tensor(0.0166)\n",
            "207 tensor(0.0164)\n",
            "208 tensor(0.0162)\n",
            "209 tensor(0.0159)\n",
            "210 tensor(0.0157)\n",
            "211 tensor(0.0155)\n",
            "212 tensor(0.0152)\n",
            "213 tensor(0.0150)\n",
            "214 tensor(0.0148)\n",
            "215 tensor(0.0146)\n",
            "216 tensor(0.0144)\n",
            "217 tensor(0.0142)\n",
            "218 tensor(0.0140)\n",
            "219 tensor(0.0138)\n",
            "220 tensor(0.0136)\n",
            "221 tensor(0.0134)\n",
            "222 tensor(0.0132)\n",
            "223 tensor(0.0130)\n",
            "224 tensor(0.0128)\n",
            "225 tensor(0.0126)\n",
            "226 tensor(0.0125)\n",
            "227 tensor(0.0123)\n",
            "228 tensor(0.0121)\n",
            "229 tensor(0.0119)\n",
            "230 tensor(0.0118)\n",
            "231 tensor(0.0116)\n",
            "232 tensor(0.0114)\n",
            "233 tensor(0.0113)\n",
            "234 tensor(0.0111)\n",
            "235 tensor(0.0109)\n",
            "236 tensor(0.0108)\n",
            "237 tensor(0.0106)\n",
            "238 tensor(0.0105)\n",
            "239 tensor(0.0103)\n",
            "240 tensor(0.0102)\n",
            "241 tensor(0.0100)\n",
            "242 tensor(0.0099)\n",
            "243 tensor(0.0097)\n",
            "244 tensor(0.0096)\n",
            "245 tensor(0.0095)\n",
            "246 tensor(0.0093)\n",
            "247 tensor(0.0092)\n",
            "248 tensor(0.0091)\n",
            "249 tensor(0.0089)\n",
            "250 tensor(0.0088)\n",
            "251 tensor(0.0087)\n",
            "252 tensor(0.0085)\n",
            "253 tensor(0.0084)\n",
            "254 tensor(0.0083)\n",
            "255 tensor(0.0082)\n",
            "256 tensor(0.0081)\n",
            "257 tensor(0.0079)\n",
            "258 tensor(0.0078)\n",
            "259 tensor(0.0077)\n",
            "260 tensor(0.0076)\n",
            "261 tensor(0.0075)\n",
            "262 tensor(0.0074)\n",
            "263 tensor(0.0073)\n",
            "264 tensor(0.0072)\n",
            "265 tensor(0.0071)\n",
            "266 tensor(0.0070)\n",
            "267 tensor(0.0069)\n",
            "268 tensor(0.0068)\n",
            "269 tensor(0.0067)\n",
            "270 tensor(0.0066)\n",
            "271 tensor(0.0065)\n",
            "272 tensor(0.0064)\n",
            "273 tensor(0.0063)\n",
            "274 tensor(0.0062)\n",
            "275 tensor(0.0061)\n",
            "276 tensor(0.0060)\n",
            "277 tensor(0.0060)\n",
            "278 tensor(0.0059)\n",
            "279 tensor(0.0058)\n",
            "280 tensor(0.0057)\n",
            "281 tensor(0.0056)\n",
            "282 tensor(0.0055)\n",
            "283 tensor(0.0055)\n",
            "284 tensor(0.0054)\n",
            "285 tensor(0.0053)\n",
            "286 tensor(0.0052)\n",
            "287 tensor(0.0051)\n",
            "288 tensor(0.0051)\n",
            "289 tensor(0.0050)\n",
            "290 tensor(0.0049)\n",
            "291 tensor(0.0049)\n",
            "292 tensor(0.0048)\n",
            "293 tensor(0.0047)\n",
            "294 tensor(0.0047)\n",
            "295 tensor(0.0046)\n",
            "296 tensor(0.0045)\n",
            "297 tensor(0.0045)\n",
            "298 tensor(0.0044)\n",
            "299 tensor(0.0043)\n",
            "300 tensor(0.0043)\n",
            "301 tensor(0.0042)\n",
            "302 tensor(0.0041)\n",
            "303 tensor(0.0041)\n",
            "304 tensor(0.0040)\n",
            "305 tensor(0.0040)\n",
            "306 tensor(0.0039)\n",
            "307 tensor(0.0039)\n",
            "308 tensor(0.0038)\n",
            "309 tensor(0.0037)\n",
            "310 tensor(0.0037)\n",
            "311 tensor(0.0036)\n",
            "312 tensor(0.0036)\n",
            "313 tensor(0.0035)\n",
            "314 tensor(0.0035)\n",
            "315 tensor(0.0034)\n",
            "316 tensor(0.0034)\n",
            "317 tensor(0.0033)\n",
            "318 tensor(0.0033)\n",
            "319 tensor(0.0032)\n",
            "320 tensor(0.0032)\n",
            "321 tensor(0.0031)\n",
            "322 tensor(0.0031)\n",
            "323 tensor(0.0031)\n",
            "324 tensor(0.0030)\n",
            "325 tensor(0.0030)\n",
            "326 tensor(0.0029)\n",
            "327 tensor(0.0029)\n",
            "328 tensor(0.0028)\n",
            "329 tensor(0.0028)\n",
            "330 tensor(0.0028)\n",
            "331 tensor(0.0027)\n",
            "332 tensor(0.0027)\n",
            "333 tensor(0.0026)\n",
            "334 tensor(0.0026)\n",
            "335 tensor(0.0026)\n",
            "336 tensor(0.0025)\n",
            "337 tensor(0.0025)\n",
            "338 tensor(0.0025)\n",
            "339 tensor(0.0024)\n",
            "340 tensor(0.0024)\n",
            "341 tensor(0.0024)\n",
            "342 tensor(0.0023)\n",
            "343 tensor(0.0023)\n",
            "344 tensor(0.0023)\n",
            "345 tensor(0.0022)\n",
            "346 tensor(0.0022)\n",
            "347 tensor(0.0022)\n",
            "348 tensor(0.0021)\n",
            "349 tensor(0.0021)\n",
            "350 tensor(0.0021)\n",
            "351 tensor(0.0020)\n",
            "352 tensor(0.0020)\n",
            "353 tensor(0.0020)\n",
            "354 tensor(0.0020)\n",
            "355 tensor(0.0019)\n",
            "356 tensor(0.0019)\n",
            "357 tensor(0.0019)\n",
            "358 tensor(0.0018)\n",
            "359 tensor(0.0018)\n",
            "360 tensor(0.0018)\n",
            "361 tensor(0.0018)\n",
            "362 tensor(0.0017)\n",
            "363 tensor(0.0017)\n",
            "364 tensor(0.0017)\n",
            "365 tensor(0.0017)\n",
            "366 tensor(0.0016)\n",
            "367 tensor(0.0016)\n",
            "368 tensor(0.0016)\n",
            "369 tensor(0.0016)\n",
            "370 tensor(0.0015)\n",
            "371 tensor(0.0015)\n",
            "372 tensor(0.0015)\n",
            "373 tensor(0.0015)\n",
            "374 tensor(0.0015)\n",
            "375 tensor(0.0014)\n",
            "376 tensor(0.0014)\n",
            "377 tensor(0.0014)\n",
            "378 tensor(0.0014)\n",
            "379 tensor(0.0014)\n",
            "380 tensor(0.0013)\n",
            "381 tensor(0.0013)\n",
            "382 tensor(0.0013)\n",
            "383 tensor(0.0013)\n",
            "384 tensor(0.0013)\n",
            "385 tensor(0.0012)\n",
            "386 tensor(0.0012)\n",
            "387 tensor(0.0012)\n",
            "388 tensor(0.0012)\n",
            "389 tensor(0.0012)\n",
            "390 tensor(0.0012)\n",
            "391 tensor(0.0011)\n",
            "392 tensor(0.0011)\n",
            "393 tensor(0.0011)\n",
            "394 tensor(0.0011)\n",
            "395 tensor(0.0011)\n",
            "396 tensor(0.0011)\n",
            "397 tensor(0.0010)\n",
            "398 tensor(0.0010)\n",
            "399 tensor(0.0010)\n",
            "400 tensor(0.0010)\n",
            "401 tensor(0.0010)\n",
            "402 tensor(0.0010)\n",
            "403 tensor(0.0010)\n",
            "404 tensor(0.0009)\n",
            "405 tensor(0.0009)\n",
            "406 tensor(0.0009)\n",
            "407 tensor(0.0009)\n",
            "408 tensor(0.0009)\n",
            "409 tensor(0.0009)\n",
            "410 tensor(0.0009)\n",
            "411 tensor(0.0009)\n",
            "412 tensor(0.0008)\n",
            "413 tensor(0.0008)\n",
            "414 tensor(0.0008)\n",
            "415 tensor(0.0008)\n",
            "416 tensor(0.0008)\n",
            "417 tensor(0.0008)\n",
            "418 tensor(0.0008)\n",
            "419 tensor(0.0008)\n",
            "420 tensor(0.0008)\n",
            "421 tensor(0.0007)\n",
            "422 tensor(0.0007)\n",
            "423 tensor(0.0007)\n",
            "424 tensor(0.0007)\n",
            "425 tensor(0.0007)\n",
            "426 tensor(0.0007)\n",
            "427 tensor(0.0007)\n",
            "428 tensor(0.0007)\n",
            "429 tensor(0.0007)\n",
            "430 tensor(0.0006)\n",
            "431 tensor(0.0006)\n",
            "432 tensor(0.0006)\n",
            "433 tensor(0.0006)\n",
            "434 tensor(0.0006)\n",
            "435 tensor(0.0006)\n",
            "436 tensor(0.0006)\n",
            "437 tensor(0.0006)\n",
            "438 tensor(0.0006)\n",
            "439 tensor(0.0006)\n",
            "440 tensor(0.0006)\n",
            "441 tensor(0.0006)\n",
            "442 tensor(0.0005)\n",
            "443 tensor(0.0005)\n",
            "444 tensor(0.0005)\n",
            "445 tensor(0.0005)\n",
            "446 tensor(0.0005)\n",
            "447 tensor(0.0005)\n",
            "448 tensor(0.0005)\n",
            "449 tensor(0.0005)\n",
            "450 tensor(0.0005)\n",
            "451 tensor(0.0005)\n",
            "452 tensor(0.0005)\n",
            "453 tensor(0.0005)\n",
            "454 tensor(0.0005)\n",
            "455 tensor(0.0005)\n",
            "456 tensor(0.0004)\n",
            "457 tensor(0.0004)\n",
            "458 tensor(0.0004)\n",
            "459 tensor(0.0004)\n",
            "460 tensor(0.0004)\n",
            "461 tensor(0.0004)\n",
            "462 tensor(0.0004)\n",
            "463 tensor(0.0004)\n",
            "464 tensor(0.0004)\n",
            "465 tensor(0.0004)\n",
            "466 tensor(0.0004)\n",
            "467 tensor(0.0004)\n",
            "468 tensor(0.0004)\n",
            "469 tensor(0.0004)\n",
            "470 tensor(0.0004)\n",
            "471 tensor(0.0004)\n",
            "472 tensor(0.0004)\n",
            "473 tensor(0.0003)\n",
            "474 tensor(0.0003)\n",
            "475 tensor(0.0003)\n",
            "476 tensor(0.0003)\n",
            "477 tensor(0.0003)\n",
            "478 tensor(0.0003)\n",
            "479 tensor(0.0003)\n",
            "480 tensor(0.0003)\n",
            "481 tensor(0.0003)\n",
            "482 tensor(0.0003)\n",
            "483 tensor(0.0003)\n",
            "484 tensor(0.0003)\n",
            "485 tensor(0.0003)\n",
            "486 tensor(0.0003)\n",
            "487 tensor(0.0003)\n",
            "488 tensor(0.0003)\n",
            "489 tensor(0.0003)\n",
            "490 tensor(0.0003)\n",
            "491 tensor(0.0003)\n",
            "492 tensor(0.0003)\n",
            "493 tensor(0.0003)\n",
            "494 tensor(0.0003)\n",
            "495 tensor(0.0003)\n",
            "496 tensor(0.0002)\n",
            "497 tensor(0.0002)\n",
            "498 tensor(0.0002)\n",
            "499 tensor(0.0002)\n",
            "predict (after training) 4 tensor(7.9822)\n"
          ],
          "name": "stdout"
        }
      ]
    },
    {
      "cell_type": "markdown",
      "metadata": {
        "id": "3qiytLuw8-JT",
        "colab_type": "text"
      },
      "source": [
        "# 5. Creating Network Components in Pytorch\n",
        "Before we move on to our focus on NLP, lets do an annotated example of building a network in Pytorch using only affine maps and non-linearities.  We will also see how to compute a loss function, using Pytorch's built in negative log likelihood, and update parameters by backpropagation.\n",
        "\n",
        "All network components should inherit from nn.Module and override the forward() method.  That is about it, as far as the boilerplate is concerned.  Inheriting from nn.Module provides functionality to your component.  For example, it makes it keep track of its trainable parameters, you can swap it between CPU and GPU with the .cuda() or .cpu() functions, etc.\n",
        "\n",
        "Let's write an annotated example of a network that takes in a sparse bag-of-words representation and outputs a probability distribution over two labels: \"English\" and \"Spanish\".  This model is just logistic regression."
      ]
    },
    {
      "cell_type": "markdown",
      "metadata": {
        "id": "0Ck5MRNG8-JU",
        "colab_type": "text"
      },
      "source": [
        "### Example: Logistic Regression Bag-of-Words classifier\n",
        "Our model will map a sparse BOW representation to log probabilities over labels.  We assign each word in the vocab an index.  For example, say our entire vocab is two words \"hello\" and \"world\", with indices 0 and 1 respectively.\n",
        "The BoW vector for the sentence \"hello hello hello hello\" is\n",
        "$$ \\left[ 4, 0 \\right] $$\n",
        "For \"hello world world hello\", it is \n",
        "$$ \\left[ 2, 2 \\right] $$\n",
        "etc.\n",
        "In general, it is\n",
        "$$ \\left[ \\text{Count}(\\text{hello}), \\text{Count}(\\text{world}) \\right] $$\n",
        "\n",
        "Denote this BOW vector as $x$.\n",
        "The output of our network is:\n",
        "$$ \\log \\text{Softmax}(Ax + b) $$\n",
        "That is, we pass the input through an affine map and then do log softmax."
      ]
    },
    {
      "cell_type": "code",
      "metadata": {
        "id": "OyvlWLLG8-Jb",
        "colab_type": "code",
        "outputId": "7decb9cb-4668-4e41-e0ec-f757dff17eb0",
        "colab": {
          "base_uri": "https://localhost:8080/",
          "height": 54
        }
      },
      "source": [
        "data = [ (\"me gusta comer en la cafeteria\".split(), \"SPANISH\"),\n",
        "         (\"Give it to me\".split(), \"ENGLISH\"),\n",
        "         (\"No creo que sea una buena idea\".split(), \"SPANISH\"),\n",
        "         (\"No it is not a good idea to get lost at sea\".split(), \"ENGLISH\") ]\n",
        "\n",
        "test_data = [ (\"Yo creo que si\".split(), \"SPANISH\"),\n",
        "              (\"it is lost on me\".split(), \"ENGLISH\")]\n",
        "\n",
        "# word_to_ix maps each word in the vocab to a unique integer, which will be its\n",
        "# index into the Bag of words vector\n",
        "word_to_ix = {}\n",
        "for sent, _ in data + test_data:\n",
        "    for word in sent:\n",
        "        if word not in word_to_ix:\n",
        "            word_to_ix[word] = len(word_to_ix)\n",
        "print(word_to_ix)\n",
        "\n",
        "VOCAB_SIZE = len(word_to_ix)\n",
        "NUM_LABELS = 2"
      ],
      "execution_count": 0,
      "outputs": [
        {
          "output_type": "stream",
          "text": [
            "{'me': 0, 'gusta': 1, 'comer': 2, 'en': 3, 'la': 4, 'cafeteria': 5, 'Give': 6, 'it': 7, 'to': 8, 'No': 9, 'creo': 10, 'que': 11, 'sea': 12, 'una': 13, 'buena': 14, 'idea': 15, 'is': 16, 'not': 17, 'a': 18, 'good': 19, 'get': 20, 'lost': 21, 'at': 22, 'Yo': 23, 'si': 24, 'on': 25}\n"
          ],
          "name": "stdout"
        }
      ]
    },
    {
      "cell_type": "code",
      "metadata": {
        "id": "z_ufWHew8-Jh",
        "colab_type": "code",
        "colab": {}
      },
      "source": [
        "class BoWClassifier(nn.Module): # inheriting from nn.Module!\n",
        "    \n",
        "    def __init__(self, num_labels, vocab_size):\n",
        "        # calls the init function of nn.Module.  Dont get confused by syntax,\n",
        "        # just always do it in an nn.Module\n",
        "        super(BoWClassifier, self).__init__()\n",
        "        \n",
        "        # Define the parameters that you will need.  In this case, we need A and b,\n",
        "        # the parameters of the affine mapping.\n",
        "        # Torch defines nn.Linear(), which provides the affine map.\n",
        "        # Make sure you understand why the input dimension is vocab_size\n",
        "        # and the output is num_labels!\n",
        "        self.linear = nn.Linear(vocab_size, num_labels)\n",
        "        \n",
        "        # NOTE! The non-linearity log softmax does not have parameters! So we don't need\n",
        "        # to worry about that here\n",
        "        \n",
        "    def forward(self, bow_vec):\n",
        "        # Pass the input through the linear layer,\n",
        "        # then pass that through log_softmax.\n",
        "        # Many non-linearities and other functions are in torch.nn.functional\n",
        "        return F.log_softmax(self.linear(bow_vec))"
      ],
      "execution_count": 0,
      "outputs": []
    },
    {
      "cell_type": "code",
      "metadata": {
        "id": "bkmO1YT38-Jp",
        "colab_type": "code",
        "colab": {}
      },
      "source": [
        "def make_bow_vector(sentence, word_to_ix):\n",
        "    vec = torch.zeros(len(word_to_ix))\n",
        "    for word in sentence:\n",
        "        vec[word_to_ix[word]] += 1\n",
        "    return vec.view(1, -1)\n",
        "\n",
        "def make_target(label, label_to_ix):\n",
        "    return torch.LongTensor([label_to_ix[label]])"
      ],
      "execution_count": 0,
      "outputs": []
    },
    {
      "cell_type": "code",
      "metadata": {
        "id": "f9F6QpM68-Jt",
        "colab_type": "code",
        "outputId": "039d5d01-3c2d-4534-e0a1-03a5d32ecdbe",
        "colab": {
          "base_uri": "https://localhost:8080/",
          "height": 204
        }
      },
      "source": [
        "model = BoWClassifier(NUM_LABELS, VOCAB_SIZE)\n",
        "\n",
        "# the model knows its parameters.  The first output below is A, the second is b.\n",
        "# Whenever you assign a component to a class variable in the __init__ function of a module,\n",
        "# which was done with the line\n",
        "# self.linear = nn.Linear(...)\n",
        "# Then through some Python magic from the Pytorch devs, your module (in this case, BoWClassifier)\n",
        "# will store knowledge of the nn.Linear's parameters\n",
        "for param in model.parameters():\n",
        "    print(param)"
      ],
      "execution_count": 0,
      "outputs": [
        {
          "output_type": "stream",
          "text": [
            "Parameter containing:\n",
            "tensor([[-0.1555,  0.1853, -0.1728, -0.0645, -0.1380,  0.0705, -0.1632, -0.0967,\n",
            "         -0.1246, -0.1205, -0.0916,  0.1928, -0.0160,  0.0598, -0.1947,  0.1744,\n",
            "         -0.0427, -0.1800,  0.1352, -0.0530,  0.1781, -0.1332, -0.1821, -0.1473,\n",
            "          0.0850, -0.0220],\n",
            "        [-0.1817,  0.0364, -0.0125,  0.0709, -0.0998, -0.1400,  0.1337, -0.0944,\n",
            "          0.1380,  0.1590, -0.1372, -0.0904,  0.0236, -0.1849,  0.0602, -0.0817,\n",
            "         -0.0870, -0.1516,  0.0917, -0.1250, -0.1568, -0.0516, -0.1092, -0.1907,\n",
            "          0.0790, -0.0746]], requires_grad=True)\n",
            "Parameter containing:\n",
            "tensor([0.1374, 0.1380], requires_grad=True)\n"
          ],
          "name": "stdout"
        }
      ]
    },
    {
      "cell_type": "code",
      "metadata": {
        "id": "ZTFc4Euf8-Jx",
        "colab_type": "code",
        "outputId": "27b4092c-f6a9-450f-c4b2-34510725a3b1",
        "colab": {
          "base_uri": "https://localhost:8080/",
          "height": 122
        }
      },
      "source": [
        "# To run the model, pass in a BoW vector, but wrapped in an autograd.Variable\n",
        "sample = data[0]\n",
        "print(sample)\n",
        "bow_vector = make_bow_vector(sample[0], word_to_ix)\n",
        "print(bow_vector)\n",
        "log_probs = model(autograd.Variable(bow_vector))\n",
        "print(log_probs)"
      ],
      "execution_count": 0,
      "outputs": [
        {
          "output_type": "stream",
          "text": [
            "(['me', 'gusta', 'comer', 'en', 'la', 'cafeteria'], 'SPANISH')\n",
            "tensor([[1., 1., 1., 1., 1., 1., 0., 0., 0., 0., 0., 0., 0., 0., 0., 0., 0., 0.,\n",
            "         0., 0., 0., 0., 0., 0., 0., 0.]])\n",
            "tensor([[-0.6679, -0.7190]], grad_fn=<LogSoftmaxBackward>)\n"
          ],
          "name": "stdout"
        },
        {
          "output_type": "stream",
          "text": [
            "/usr/local/lib/python3.6/dist-packages/ipykernel_launcher.py:22: UserWarning: Implicit dimension choice for log_softmax has been deprecated. Change the call to include dim=X as an argument.\n"
          ],
          "name": "stderr"
        }
      ]
    },
    {
      "cell_type": "markdown",
      "metadata": {
        "id": "AYkzP7VU8-J1",
        "colab_type": "text"
      },
      "source": [
        "Which of the above values corresponds to the log probability of ENGLISH, and which to SPANISH?  We never defined it, but we need to if we want to train the thing."
      ]
    },
    {
      "cell_type": "code",
      "metadata": {
        "id": "AOrfj9PM8-J3",
        "colab_type": "code",
        "colab": {}
      },
      "source": [
        "label_to_ix = { \"SPANISH\": 0, \"ENGLISH\": 1 }"
      ],
      "execution_count": 0,
      "outputs": []
    },
    {
      "cell_type": "markdown",
      "metadata": {
        "id": "qg0OyKaf8-J-",
        "colab_type": "text"
      },
      "source": [
        "So lets train!  To do this, we pass instances through to get log probabilities, compute a loss function, compute the gradient of the loss function, and then update the parameters with a gradient step.  Loss functions are provided by Torch in the nn package.  nn.NLLLoss() is the negative log likelihood loss we want.  It also defines optimization functions in torch.optim.  Here, we will just use SGD.\n",
        "\n",
        "Note that the *input* to NLLLoss is a vector of log probabilities, and a target label.  It doesn't compute the log probabilities for us.  This is why the last layer of our network is log softmax.\n",
        "The loss function nn.CrossEntropyLoss() is the same as NLLLoss(), except it does the log softmax for you."
      ]
    },
    {
      "cell_type": "code",
      "metadata": {
        "id": "7a_4Zzyd8-J_",
        "colab_type": "code",
        "outputId": "a3c83981-cd16-4b85-c80a-94a4c4062643",
        "colab": {
          "base_uri": "https://localhost:8080/",
          "height": 105
        }
      },
      "source": [
        "# Run on test data before we train, just to see a before-and-after\n",
        "for instance, label in test_data:\n",
        "    bow_vec = autograd.Variable(make_bow_vector(instance, word_to_ix))\n",
        "    log_probs = model(bow_vec)\n",
        "    print(log_probs)\n",
        "print(next(model.parameters())[:,word_to_ix[\"creo\"]]) # Print the matrix column corresponding to \"creo\""
      ],
      "execution_count": 0,
      "outputs": [
        {
          "output_type": "stream",
          "text": [
            "tensor([[-0.5222, -0.8995]], grad_fn=<LogSoftmaxBackward>)\n",
            "tensor([[-0.6741, -0.7126]], grad_fn=<LogSoftmaxBackward>)\n",
            "tensor([-0.0916, -0.1372], grad_fn=<SelectBackward>)\n"
          ],
          "name": "stdout"
        },
        {
          "output_type": "stream",
          "text": [
            "/usr/local/lib/python3.6/dist-packages/ipykernel_launcher.py:22: UserWarning: Implicit dimension choice for log_softmax has been deprecated. Change the call to include dim=X as an argument.\n"
          ],
          "name": "stderr"
        }
      ]
    },
    {
      "cell_type": "code",
      "metadata": {
        "id": "yNN9DM2_8-KC",
        "colab_type": "code",
        "outputId": "919fcaf4-1284-419e-b980-0ea63391b408",
        "colab": {
          "base_uri": "https://localhost:8080/",
          "height": 54
        }
      },
      "source": [
        "loss_function = nn.NLLLoss()\n",
        "optimizer = optim.SGD(model.parameters(), lr=0.1)\n",
        "\n",
        "# Usually you want to pass over the training data several times.\n",
        "# 100 is much bigger than on a real data set, but real datasets have more than\n",
        "# two instances.  Usually, somewhere between 5 and 30 epochs is reasonable.\n",
        "for epoch in range(100):\n",
        "    for instance, label in data:\n",
        "        # Step 1. Remember that Pytorch accumulates gradients.  We need to clear them out\n",
        "        # before each instance\n",
        "        model.zero_grad()\n",
        "    \n",
        "        # Step 2. Make our BOW vector and also we must wrap the target in a Variable\n",
        "        # as an integer.  For example, if the target is SPANISH, then we wrap the integer\n",
        "        # 0.  The loss function then knows that the 0th element of the log probabilities is\n",
        "        # the log probability corresponding to SPANISH\n",
        "        bow_vec = autograd.Variable(make_bow_vector(instance, word_to_ix))\n",
        "        target = autograd.Variable(make_target(label, label_to_ix))\n",
        "    \n",
        "        # Step 3. Run our forward pass.\n",
        "        log_probs = model(bow_vec)\n",
        "    \n",
        "        # Step 4. Compute the loss, gradients, and update the parameters by calling\n",
        "        # optimizer.step()\n",
        "        loss = loss_function(log_probs, target)\n",
        "        loss.backward()\n",
        "        optimizer.step()"
      ],
      "execution_count": 0,
      "outputs": [
        {
          "output_type": "stream",
          "text": [
            "/usr/local/lib/python3.6/dist-packages/ipykernel_launcher.py:22: UserWarning: Implicit dimension choice for log_softmax has been deprecated. Change the call to include dim=X as an argument.\n"
          ],
          "name": "stderr"
        }
      ]
    },
    {
      "cell_type": "code",
      "metadata": {
        "id": "wBMY94pc8-KG",
        "colab_type": "code",
        "outputId": "530e795e-2d49-44b4-9c37-1a679b43e145",
        "colab": {
          "base_uri": "https://localhost:8080/",
          "height": 105
        }
      },
      "source": [
        "for instance, label in test_data:\n",
        "    bow_vec = autograd.Variable(make_bow_vector(instance, word_to_ix))\n",
        "    log_probs = model(bow_vec)\n",
        "    print(log_probs)\n",
        "print(next(model.parameters())[:,word_to_ix[\"creo\"]]) # Index corresponding to Spanish goes up, English goes down!"
      ],
      "execution_count": 0,
      "outputs": [
        {
          "output_type": "stream",
          "text": [
            "tensor([[-0.0999, -2.3532]], grad_fn=<LogSoftmaxBackward>)\n",
            "tensor([[-2.4309, -0.0921]], grad_fn=<LogSoftmaxBackward>)\n",
            "tensor([ 0.3217, -0.5504], grad_fn=<SelectBackward>)\n"
          ],
          "name": "stdout"
        },
        {
          "output_type": "stream",
          "text": [
            "/usr/local/lib/python3.6/dist-packages/ipykernel_launcher.py:22: UserWarning: Implicit dimension choice for log_softmax has been deprecated. Change the call to include dim=X as an argument.\n"
          ],
          "name": "stderr"
        }
      ]
    },
    {
      "cell_type": "markdown",
      "metadata": {
        "id": "LP6HKf1q8-KM",
        "colab_type": "text"
      },
      "source": [
        "We got the right answer!  You can see that the log probability for Spanish is much higher in the first example, and the log probability for English is much higher in the second for the test data, as it should be.\n",
        "\n",
        "Now you see how to make a Pytorch component, pass some data through it and do gradient updates.\n",
        "We are ready to dig deeper into what deep NLP has to offer."
      ]
    },
    {
      "cell_type": "code",
      "metadata": {
        "id": "2JEy0rhF8-KO",
        "colab_type": "code",
        "colab": {}
      },
      "source": [
        ""
      ],
      "execution_count": 0,
      "outputs": []
    }
  ]
}